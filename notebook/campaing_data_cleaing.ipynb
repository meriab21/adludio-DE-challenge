{
 "cells": [
  {
   "cell_type": "markdown",
   "metadata": {},
   "source": [
    "Observing Campaign dataset"
   ]
  },
  {
   "cell_type": "code",
   "execution_count": 1,
   "metadata": {},
   "outputs": [],
   "source": [
    "# importing libraries\n",
    "import pandas as pd\n",
    "import warnings\n",
    "warnings.filterwarnings('ignore')"
   ]
  },
  {
   "cell_type": "code",
   "execution_count": 3,
   "metadata": {},
   "outputs": [],
   "source": [
    "#importing campaigns data\n",
    "campaigns_data = pd.read_csv(\"../adludio_datalake/campaigns_inventory_updated.csv\", low_memory=False)\n"
   ]
  },
  {
   "cell_type": "code",
   "execution_count": 5,
   "metadata": {},
   "outputs": [
    {
     "data": {
      "text/html": [
       "<div>\n",
       "<style scoped>\n",
       "    .dataframe tbody tr th:only-of-type {\n",
       "        vertical-align: middle;\n",
       "    }\n",
       "\n",
       "    .dataframe tbody tr th {\n",
       "        vertical-align: top;\n",
       "    }\n",
       "\n",
       "    .dataframe thead th {\n",
       "        text-align: right;\n",
       "    }\n",
       "</style>\n",
       "<table border=\"1\" class=\"dataframe\">\n",
       "  <thead>\n",
       "    <tr style=\"text-align: right;\">\n",
       "      <th></th>\n",
       "      <th>type</th>\n",
       "      <th>width</th>\n",
       "      <th>height</th>\n",
       "      <th>campaign_id</th>\n",
       "      <th>creative_id</th>\n",
       "      <th>auction_id</th>\n",
       "      <th>browser_ts</th>\n",
       "      <th>game_key</th>\n",
       "      <th>geo_country</th>\n",
       "      <th>site_name</th>\n",
       "      <th>platform_os</th>\n",
       "      <th>device_type</th>\n",
       "      <th>browser</th>\n",
       "    </tr>\n",
       "  </thead>\n",
       "  <tbody>\n",
       "    <tr>\n",
       "      <th>0</th>\n",
       "      <td>impression</td>\n",
       "      <td>%</td>\n",
       "      <td>%</td>\n",
       "      <td>l5kk3r3</td>\n",
       "      <td>x83byc8a</td>\n",
       "      <td>fd74243f-6606-4830-a0ef-dd12f66ec6f5</td>\n",
       "      <td>2021-01-01T19:55:20.291Z</td>\n",
       "      <td>adunit-facebook-conversational-commerce-phase-...</td>\n",
       "      <td>Thailand</td>\n",
       "      <td>www.wuxiaworld.com</td>\n",
       "      <td>6</td>\n",
       "      <td>Mobile</td>\n",
       "      <td>Chrome</td>\n",
       "    </tr>\n",
       "    <tr>\n",
       "      <th>1</th>\n",
       "      <td>impression</td>\n",
       "      <td>%</td>\n",
       "      <td>%</td>\n",
       "      <td>l5kk3r3</td>\n",
       "      <td>x83byc8a</td>\n",
       "      <td>fd74243f-6606-4830-a0ef-dd12f66ec6f5</td>\n",
       "      <td>2021-01-01T19:55:20.298Z</td>\n",
       "      <td>adunit-facebook-conversational-commerce-phase-...</td>\n",
       "      <td>Thailand</td>\n",
       "      <td>www.wuxiaworld.com</td>\n",
       "      <td>6</td>\n",
       "      <td>Mobile</td>\n",
       "      <td>Mobile Safari UI/WKWebView</td>\n",
       "    </tr>\n",
       "    <tr>\n",
       "      <th>2</th>\n",
       "      <td>impression</td>\n",
       "      <td>%</td>\n",
       "      <td>%</td>\n",
       "      <td>l5kk3r3</td>\n",
       "      <td>tf2htrrm</td>\n",
       "      <td>b3af878b-fd1a-4c6f-91a2-4e3670d2fda5</td>\n",
       "      <td>2021-01-05T00:21:39.693Z</td>\n",
       "      <td>adunit-facebook-conversational-commerce-phase-...</td>\n",
       "      <td>Thailand</td>\n",
       "      <td>www.prachachat.net</td>\n",
       "      <td>6</td>\n",
       "      <td>Mobile</td>\n",
       "      <td>Chrome Mobile</td>\n",
       "    </tr>\n",
       "  </tbody>\n",
       "</table>\n",
       "</div>"
      ],
      "text/plain": [
       "         type width height campaign_id creative_id  \\\n",
       "0  impression     %      %     l5kk3r3    x83byc8a   \n",
       "1  impression     %      %     l5kk3r3    x83byc8a   \n",
       "2  impression     %      %     l5kk3r3    tf2htrrm   \n",
       "\n",
       "                             auction_id                browser_ts  \\\n",
       "0  fd74243f-6606-4830-a0ef-dd12f66ec6f5  2021-01-01T19:55:20.291Z   \n",
       "1  fd74243f-6606-4830-a0ef-dd12f66ec6f5  2021-01-01T19:55:20.298Z   \n",
       "2  b3af878b-fd1a-4c6f-91a2-4e3670d2fda5  2021-01-05T00:21:39.693Z   \n",
       "\n",
       "                                            game_key geo_country  \\\n",
       "0  adunit-facebook-conversational-commerce-phase-...    Thailand   \n",
       "1  adunit-facebook-conversational-commerce-phase-...    Thailand   \n",
       "2  adunit-facebook-conversational-commerce-phase-...    Thailand   \n",
       "\n",
       "            site_name platform_os device_type                     browser  \n",
       "0  www.wuxiaworld.com           6      Mobile                      Chrome  \n",
       "1  www.wuxiaworld.com           6      Mobile  Mobile Safari UI/WKWebView  \n",
       "2  www.prachachat.net           6      Mobile               Chrome Mobile  "
      ]
     },
     "execution_count": 5,
     "metadata": {},
     "output_type": "execute_result"
    }
   ],
   "source": [
    "#Observing campaigns dataset\n",
    "campaigns_data.head(3)"
   ]
  },
  {
   "cell_type": "code",
   "execution_count": 6,
   "metadata": {},
   "outputs": [
    {
     "data": {
      "text/html": [
       "<div>\n",
       "<style scoped>\n",
       "    .dataframe tbody tr th:only-of-type {\n",
       "        vertical-align: middle;\n",
       "    }\n",
       "\n",
       "    .dataframe tbody tr th {\n",
       "        vertical-align: top;\n",
       "    }\n",
       "\n",
       "    .dataframe thead th {\n",
       "        text-align: right;\n",
       "    }\n",
       "</style>\n",
       "<table border=\"1\" class=\"dataframe\">\n",
       "  <thead>\n",
       "    <tr style=\"text-align: right;\">\n",
       "      <th></th>\n",
       "      <th>type</th>\n",
       "      <th>width</th>\n",
       "      <th>height</th>\n",
       "      <th>campaign_id</th>\n",
       "      <th>creative_id</th>\n",
       "      <th>auction_id</th>\n",
       "      <th>browser_ts</th>\n",
       "      <th>game_key</th>\n",
       "      <th>geo_country</th>\n",
       "      <th>site_name</th>\n",
       "      <th>platform_os</th>\n",
       "      <th>device_type</th>\n",
       "      <th>browser</th>\n",
       "    </tr>\n",
       "  </thead>\n",
       "  <tbody>\n",
       "    <tr>\n",
       "      <th>107405</th>\n",
       "      <td>impression</td>\n",
       "      <td>320</td>\n",
       "      <td>480</td>\n",
       "      <td>u0b6zzm</td>\n",
       "      <td>06hb2sqz</td>\n",
       "      <td>b38ed9d1-7d2b-4396-9b7c-8fcaf1fdd95e</td>\n",
       "      <td>2021-01-15T22:12:55.947Z</td>\n",
       "      <td>adunit-van-cleef-and-arpels-frivole-wave-unit1...</td>\n",
       "      <td>Australia</td>\n",
       "      <td>www.scmp.com</td>\n",
       "      <td>6</td>\n",
       "      <td>Mobile</td>\n",
       "      <td>Chrome Mobile</td>\n",
       "    </tr>\n",
       "    <tr>\n",
       "      <th>105523</th>\n",
       "      <td>impression</td>\n",
       "      <td>320</td>\n",
       "      <td>480</td>\n",
       "      <td>shg01yl</td>\n",
       "      <td>8b4uh1dz</td>\n",
       "      <td>a602afd4-4347-4da8-b47b-f5162b954f37</td>\n",
       "      <td>2021-02-19T01:52:43.213Z</td>\n",
       "      <td>eab4ad84efa8e1c830ff47d6e8ad4379/f0111b2d1ea35...</td>\n",
       "      <td>United States</td>\n",
       "      <td>www.hellomagazine.com</td>\n",
       "      <td>5</td>\n",
       "      <td>Mobile</td>\n",
       "      <td>Mobile Safari</td>\n",
       "    </tr>\n",
       "  </tbody>\n",
       "</table>\n",
       "</div>"
      ],
      "text/plain": [
       "              type width height campaign_id creative_id  \\\n",
       "107405  impression   320    480     u0b6zzm    06hb2sqz   \n",
       "105523  impression   320    480     shg01yl    8b4uh1dz   \n",
       "\n",
       "                                  auction_id                browser_ts  \\\n",
       "107405  b38ed9d1-7d2b-4396-9b7c-8fcaf1fdd95e  2021-01-15T22:12:55.947Z   \n",
       "105523  a602afd4-4347-4da8-b47b-f5162b954f37  2021-02-19T01:52:43.213Z   \n",
       "\n",
       "                                                 game_key    geo_country  \\\n",
       "107405  adunit-van-cleef-and-arpels-frivole-wave-unit1...      Australia   \n",
       "105523  eab4ad84efa8e1c830ff47d6e8ad4379/f0111b2d1ea35...  United States   \n",
       "\n",
       "                    site_name platform_os device_type        browser  \n",
       "107405           www.scmp.com           6      Mobile  Chrome Mobile  \n",
       "105523  www.hellomagazine.com           5      Mobile  Mobile Safari  "
      ]
     },
     "execution_count": 6,
     "metadata": {},
     "output_type": "execute_result"
    }
   ],
   "source": [
    "campaigns_data.sample(2)"
   ]
  },
  {
   "cell_type": "code",
   "execution_count": 10,
   "metadata": {},
   "outputs": [
    {
     "data": {
      "text/plain": [
       "type           object\n",
       "width          object\n",
       "height         object\n",
       "campaign_id    object\n",
       "creative_id    object\n",
       "auction_id     object\n",
       "browser_ts     object\n",
       "game_key       object\n",
       "geo_country    object\n",
       "site_name      object\n",
       "platform_os    object\n",
       "device_type    object\n",
       "browser        object\n",
       "dtype: object"
      ]
     },
     "execution_count": 10,
     "metadata": {},
     "output_type": "execute_result"
    }
   ],
   "source": [
    "#checking data types of campaigns dataset\n",
    "campaigns_data.dtypes"
   ]
  },
  {
   "cell_type": "code",
   "execution_count": 11,
   "metadata": {},
   "outputs": [
    {
     "data": {
      "text/plain": [
       "array(['impression', 'first_dropped', 'click-through-event'], dtype=object)"
      ]
     },
     "execution_count": 11,
     "metadata": {},
     "output_type": "execute_result"
    }
   ],
   "source": [
    "campaigns_data.type.unique()"
   ]
  },
  {
   "cell_type": "code",
   "execution_count": 7,
   "metadata": {},
   "outputs": [
    {
     "data": {
      "text/plain": [
       "type            0\n",
       "width           5\n",
       "height          2\n",
       "campaign_id     0\n",
       "creative_id     0\n",
       "auction_id      0\n",
       "browser_ts      0\n",
       "game_key        0\n",
       "geo_country     5\n",
       "site_name       0\n",
       "platform_os     0\n",
       "device_type     6\n",
       "browser        17\n",
       "dtype: int64"
      ]
     },
     "execution_count": 7,
     "metadata": {},
     "output_type": "execute_result"
    }
   ],
   "source": [
    "campaigns_data.isnull().sum()"
   ]
  },
  {
   "cell_type": "code",
   "execution_count": 13,
   "metadata": {},
   "outputs": [],
   "source": [
    "#cleaning the missing values\n",
    "campaigns_data['width']= campaigns_data['width'].fillna('Not Avaliable')\n",
    "campaigns_data['height']= campaigns_data['height'].fillna('Not Avaliable')\n",
    "campaigns_data['geo_country']= campaigns_data['geo_country'].fillna('Not Avaliable')\n",
    "campaigns_data['device_type']= campaigns_data['device_type'].fillna('Not Avaliable')\n",
    "campaigns_data['browser']= campaigns_data['browser'].fillna('Not Avaliable')"
   ]
  },
  {
   "cell_type": "code",
   "execution_count": 14,
   "metadata": {},
   "outputs": [
    {
     "data": {
      "text/plain": [
       "type           0\n",
       "width          0\n",
       "height         0\n",
       "campaign_id    0\n",
       "creative_id    0\n",
       "auction_id     0\n",
       "browser_ts     0\n",
       "game_key       0\n",
       "geo_country    0\n",
       "site_name      0\n",
       "platform_os    0\n",
       "device_type    0\n",
       "browser        0\n",
       "dtype: int64"
      ]
     },
     "execution_count": 14,
     "metadata": {},
     "output_type": "execute_result"
    }
   ],
   "source": [
    "campaigns_data.isnull().sum()"
   ]
  },
  {
   "cell_type": "code",
   "execution_count": 15,
   "metadata": {},
   "outputs": [],
   "source": [
    "#saving cleaned data\n",
    "campaigns_data = campaigns_data.to_csv(\"../adludio_datalake/clean_campaigns_data.csv\")"
   ]
  },
  {
   "cell_type": "code",
   "execution_count": null,
   "metadata": {},
   "outputs": [],
   "source": []
  }
 ],
 "metadata": {
  "kernelspec": {
   "display_name": "Python 3.10.5 ('iowa')",
   "language": "python",
   "name": "python3"
  },
  "language_info": {
   "codemirror_mode": {
    "name": "ipython",
    "version": 3
   },
   "file_extension": ".py",
   "mimetype": "text/x-python",
   "name": "python",
   "nbconvert_exporter": "python",
   "pygments_lexer": "ipython3",
   "version": "3.10.5"
  },
  "orig_nbformat": 4,
  "vscode": {
   "interpreter": {
    "hash": "fac1012e4b5c08f93e2acd96a31b84a5a194157f29a2ad6db575ecd35e53531b"
   }
  }
 },
 "nbformat": 4,
 "nbformat_minor": 2
}
